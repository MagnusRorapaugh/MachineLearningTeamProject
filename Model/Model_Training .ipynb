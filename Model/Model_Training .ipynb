{
 "cells": [
  {
   "cell_type": "code",
   "execution_count": 4,
   "id": "1030f719-c792-4695-b464-e588fad9a10c",
   "metadata": {},
   "outputs": [],
   "source": [
    "#imports\n",
    "import numpy as np\n",
    "import random\n",
    "import matplotlib.pyplot as plt\n",
    "import pandas\n",
    "from PIL import Image\n",
    "import os\n",
    "from keras.layers import Dense, Dropout, Activation, Flatten\n",
    "from keras.layers import Conv2D, MaxPooling2D\n",
    "import numpy as np\n",
    "from keras.models import Sequential\n",
    "from keras.layers import Dense\n",
    "import glob\n",
    "import cv2\n",
    "import time as tm\n",
    "import keras_tuner as kt"
   ]
  },
  {
   "cell_type": "code",
   "execution_count": 5,
   "id": "53531715-a6e3-4dc9-a68a-eed44afed4d1",
   "metadata": {},
   "outputs": [],
   "source": [
    "def build_ANN(hp):\n",
    "    #create model object\n",
    "    model = Sequential()\n",
    "    #adding first convolutional layer    \n",
    "    model.add(Conv2D(\n",
    "        #adding filter \n",
    "        filters=hp.Int('conv_1_filter', min_value=32, max_value=128, step=16),\n",
    "        # adding filter size or kernel size\n",
    "        kernel_size=hp.Choice('conv_1_kernel', values = [3,5]),\n",
    "        #activation function\n",
    "        activation=hp.Choice(\"activation\", [\"relu\", \"tanh\", \"sigmoid\"]),\n",
    "        input_shape=X.shape[1:]))\n",
    "    \n",
    "    \n",
    "    for i in range(hp.Int(\"num_layers\", 1, 3)):\n",
    "        #Adding nth convlutional layer\n",
    "        model.add(Conv2D(\n",
    "            #adding filter \n",
    "            filters=hp.Int('conv_2_filter', min_value=32, max_value=128, step=16),\n",
    "            #adding filter size or kernel size\n",
    "            kernel_size=hp.Choice('conv_2_kernel', values = [3,5]),\n",
    "            #activation function\n",
    "            activation='relu'))\n",
    "\n",
    "        #added max pooling\n",
    "        model.add(MaxPooling2D(pool_size=(2,2)))\n",
    "        \n",
    "        \n",
    "        #added dropout \n",
    "        if hp.Boolean(\"dropout\"):\n",
    "            model.add(Dropout(rate=0.20))\n",
    "    \n",
    "    \n",
    "    \n",
    "    #adding flatten layer \n",
    "    model.add(Flatten())\n",
    "        \n",
    "    #adding fully connected layer\n",
    "    model.add(Dense(units=hp.Int('dense_1_units', min_value=32, max_value=128, step=16), activation='relu'))\n",
    "    \n",
    "    #adds final dropout layer\n",
    "    if hp.Boolean(\"dropout\"):\n",
    "        model.add(Dropout(rate = .5))\n",
    "    \n",
    "    #output\n",
    "    model.add(Dense(5, activation='softmax'))\n",
    "\n",
    "    \n",
    "    #chooses optimizer\n",
    "    optimizer = hp.Choice('optimizer', ['adam', 'sgd' ])\n",
    "    \n",
    "    \n",
    "    #compilation of model\n",
    "    model.compile(optimizer, loss='categorical_crossentropy', metrics=['accuracy']) \n",
    "    #return model \n",
    "    return model"
   ]
  },
  {
   "cell_type": "code",
   "execution_count": 6,
   "id": "2ff919c2-e134-49f1-92fa-b2d1abf10db7",
   "metadata": {
    "collapsed": true,
    "jupyter": {
     "outputs_hidden": true
    },
    "tags": []
   },
   "outputs": [
    {
     "name": "stderr",
     "output_type": "stream",
     "text": [
      "2022-05-16 17:26:16.851423: I tensorflow/core/platform/cpu_feature_guard.cc:142] This TensorFlow binary is optimized with oneAPI Deep Neural Network Library (oneDNN) to use the following CPU instructions in performance-critical operations:  SSE4.1 SSE4.2\n",
      "To enable them in other operations, rebuild TensorFlow with the appropriate compiler flags.\n"
     ]
    },
    {
     "ename": "NameError",
     "evalue": "name 'X' is not defined",
     "output_type": "error",
     "traceback": [
      "\u001b[0;31m---------------------------------------------------------------------------\u001b[0m",
      "\u001b[0;31mNameError\u001b[0m                                 Traceback (most recent call last)",
      "Input \u001b[0;32mIn [6]\u001b[0m, in \u001b[0;36m<cell line: 2>\u001b[0;34m()\u001b[0m\n\u001b[1;32m      1\u001b[0m \u001b[38;5;66;03m#buids model \u001b[39;00m\n\u001b[0;32m----> 2\u001b[0m model \u001b[38;5;241m=\u001b[39m \u001b[43mbuild_ANN\u001b[49m\u001b[43m(\u001b[49m\u001b[43mkt\u001b[49m\u001b[38;5;241;43m.\u001b[39;49m\u001b[43mHyperParameters\u001b[49m\u001b[43m(\u001b[49m\u001b[43m)\u001b[49m\u001b[43m)\u001b[49m\n\u001b[1;32m      3\u001b[0m \u001b[38;5;66;03m#creates tuner\u001b[39;00m\n\u001b[1;32m      4\u001b[0m tuner \u001b[38;5;241m=\u001b[39m kt\u001b[38;5;241m.\u001b[39mRandomSearch(\n\u001b[1;32m      5\u001b[0m     hypermodel\u001b[38;5;241m=\u001b[39mbuild_ANN,\n\u001b[1;32m      6\u001b[0m     objective\u001b[38;5;241m=\u001b[39m\u001b[38;5;124m\"\u001b[39m\u001b[38;5;124mval_accuracy\u001b[39m\u001b[38;5;124m\"\u001b[39m,\n\u001b[1;32m      7\u001b[0m     max_trials\u001b[38;5;241m=\u001b[39m\u001b[38;5;241m10\u001b[39m,\n\u001b[1;32m      8\u001b[0m     executions_per_trial\u001b[38;5;241m=\u001b[39m\u001b[38;5;241m5\u001b[39m,\n\u001b[1;32m      9\u001b[0m )\n",
      "Input \u001b[0;32mIn [5]\u001b[0m, in \u001b[0;36mbuild_ANN\u001b[0;34m(hp)\u001b[0m\n\u001b[1;32m      3\u001b[0m model \u001b[38;5;241m=\u001b[39m Sequential()\n\u001b[1;32m      4\u001b[0m \u001b[38;5;66;03m#adding first convolutional layer    \u001b[39;00m\n\u001b[1;32m      5\u001b[0m model\u001b[38;5;241m.\u001b[39madd(Conv2D(\n\u001b[1;32m      6\u001b[0m     \u001b[38;5;66;03m#adding filter \u001b[39;00m\n\u001b[1;32m      7\u001b[0m     filters\u001b[38;5;241m=\u001b[39mhp\u001b[38;5;241m.\u001b[39mInt(\u001b[38;5;124m'\u001b[39m\u001b[38;5;124mconv_1_filter\u001b[39m\u001b[38;5;124m'\u001b[39m, min_value\u001b[38;5;241m=\u001b[39m\u001b[38;5;241m32\u001b[39m, max_value\u001b[38;5;241m=\u001b[39m\u001b[38;5;241m128\u001b[39m, step\u001b[38;5;241m=\u001b[39m\u001b[38;5;241m16\u001b[39m),\n\u001b[1;32m      8\u001b[0m     \u001b[38;5;66;03m# adding filter size or kernel size\u001b[39;00m\n\u001b[1;32m      9\u001b[0m     kernel_size\u001b[38;5;241m=\u001b[39mhp\u001b[38;5;241m.\u001b[39mChoice(\u001b[38;5;124m'\u001b[39m\u001b[38;5;124mconv_1_kernel\u001b[39m\u001b[38;5;124m'\u001b[39m, values \u001b[38;5;241m=\u001b[39m [\u001b[38;5;241m3\u001b[39m,\u001b[38;5;241m5\u001b[39m]),\n\u001b[1;32m     10\u001b[0m     \u001b[38;5;66;03m#activation function\u001b[39;00m\n\u001b[1;32m     11\u001b[0m     activation\u001b[38;5;241m=\u001b[39mhp\u001b[38;5;241m.\u001b[39mChoice(\u001b[38;5;124m\"\u001b[39m\u001b[38;5;124mactivation\u001b[39m\u001b[38;5;124m\"\u001b[39m, [\u001b[38;5;124m\"\u001b[39m\u001b[38;5;124mrelu\u001b[39m\u001b[38;5;124m\"\u001b[39m, \u001b[38;5;124m\"\u001b[39m\u001b[38;5;124mtanh\u001b[39m\u001b[38;5;124m\"\u001b[39m, \u001b[38;5;124m\"\u001b[39m\u001b[38;5;124msigmoid\u001b[39m\u001b[38;5;124m\"\u001b[39m]),\n\u001b[0;32m---> 12\u001b[0m     input_shape\u001b[38;5;241m=\u001b[39m\u001b[43mX\u001b[49m\u001b[38;5;241m.\u001b[39mshape[\u001b[38;5;241m1\u001b[39m:]))\n\u001b[1;32m     15\u001b[0m \u001b[38;5;28;01mfor\u001b[39;00m i \u001b[38;5;129;01min\u001b[39;00m \u001b[38;5;28mrange\u001b[39m(hp\u001b[38;5;241m.\u001b[39mInt(\u001b[38;5;124m\"\u001b[39m\u001b[38;5;124mnum_layers\u001b[39m\u001b[38;5;124m\"\u001b[39m, \u001b[38;5;241m1\u001b[39m, \u001b[38;5;241m3\u001b[39m)):\n\u001b[1;32m     16\u001b[0m     \u001b[38;5;66;03m#Adding nth convlutional layer\u001b[39;00m\n\u001b[1;32m     17\u001b[0m     model\u001b[38;5;241m.\u001b[39madd(Conv2D(\n\u001b[1;32m     18\u001b[0m         \u001b[38;5;66;03m#adding filter \u001b[39;00m\n\u001b[1;32m     19\u001b[0m         filters\u001b[38;5;241m=\u001b[39mhp\u001b[38;5;241m.\u001b[39mInt(\u001b[38;5;124m'\u001b[39m\u001b[38;5;124mconv_2_filter\u001b[39m\u001b[38;5;124m'\u001b[39m, min_value\u001b[38;5;241m=\u001b[39m\u001b[38;5;241m32\u001b[39m, max_value\u001b[38;5;241m=\u001b[39m\u001b[38;5;241m128\u001b[39m, step\u001b[38;5;241m=\u001b[39m\u001b[38;5;241m16\u001b[39m),\n\u001b[0;32m   (...)\u001b[0m\n\u001b[1;32m     22\u001b[0m         \u001b[38;5;66;03m#activation function\u001b[39;00m\n\u001b[1;32m     23\u001b[0m         activation\u001b[38;5;241m=\u001b[39m\u001b[38;5;124m'\u001b[39m\u001b[38;5;124mrelu\u001b[39m\u001b[38;5;124m'\u001b[39m))\n",
      "\u001b[0;31mNameError\u001b[0m: name 'X' is not defined"
     ]
    }
   ],
   "source": [
    "#buids model \n",
    "model = build_ANN(kt.HyperParameters())\n",
    "#creates tuner\n",
    "tuner = kt.RandomSearch(\n",
    "    hypermodel=build_ANN,\n",
    "    objective=\"val_accuracy\",\n",
    "    max_trials=10,\n",
    "    executions_per_trial=5,\n",
    ")\n",
    "#gets best models \n",
    "tuner.search(train_X, train_y, epochs=3, validation_data=(test_X, test_y))\n",
    "\n",
    "## folder path to save models in --- CHANGE AS NEEDED \n",
    "folder = '/Users/moises/Desktop/'\n",
    "\n",
    "#gets the top 10 hyperparemeters\n",
    "best_hyps = tuner.get_best_hyperparameters(10)\n",
    "\n",
    "#gets the top 10 models, trains them, and saves them in a folder \n",
    "for i in range(len(best_hyps)):\n",
    "    #get best ith hyper params \n",
    "    best_hp = best_hyps[i]\n",
    "    #build model from hyperparamters \n",
    "    model=tuner.hypermodel.build(best_hp)\n",
    "    #trains model\n",
    "    model.fit(training_X, training_y, epochs=10, validation_split=0.1, initial_epoch=3)\n",
    "    #gets model accuracy \n",
    "    _, accuracy = model.evaluate(test_X, test_y)\n",
    "        \n",
    "    #saves model in file \n",
    "    file_name = str(i) + str(accuracy)\n",
    "    model.save(folder + file_name)"
   ]
  },
  {
   "cell_type": "markdown",
   "id": "5783b3a7-cadf-4ed1-9146-7e5576c441a8",
   "metadata": {
    "tags": []
   },
   "source": [
    "## Model saving"
   ]
  },
  {
   "cell_type": "code",
   "execution_count": 1,
   "id": "73d070d6-8581-49a1-bbd1-ae60dbcfa7e9",
   "metadata": {},
   "outputs": [],
   "source": [
    "save_path = 'Model/savedModel'"
   ]
  },
  {
   "cell_type": "code",
   "execution_count": 230,
   "id": "a80b553a-98eb-4a4f-b73a-a5a0475e046d",
   "metadata": {},
   "outputs": [
    {
     "name": "stderr",
     "output_type": "stream",
     "text": [
      "2022-05-07 17:50:31.131774: W tensorflow/python/util/util.cc:368] Sets are not currently considered sequences, but this may change in the future, so consider avoiding using them.\n"
     ]
    },
    {
     "name": "stdout",
     "output_type": "stream",
     "text": [
      "INFO:tensorflow:Assets written to: /Users/maxperozek/ML-CP341/8/saved-models/assets\n"
     ]
    }
   ],
   "source": [
    "model.save(save_path)"
   ]
  },
  {
   "cell_type": "code",
   "execution_count": 231,
   "id": "bbf3fb17-e112-4106-91f1-f269859ca33c",
   "metadata": {},
   "outputs": [],
   "source": [
    "loaded_model = keras.models.load_model(save_path)"
   ]
  }
 ],
 "metadata": {
  "kernelspec": {
   "display_name": "Python 3 (ipykernel)",
   "language": "python",
   "name": "python3"
  },
  "language_info": {
   "codemirror_mode": {
    "name": "ipython",
    "version": 3
   },
   "file_extension": ".py",
   "mimetype": "text/x-python",
   "name": "python",
   "nbconvert_exporter": "python",
   "pygments_lexer": "ipython3",
   "version": "3.9.12"
  }
 },
 "nbformat": 4,
 "nbformat_minor": 5
}
