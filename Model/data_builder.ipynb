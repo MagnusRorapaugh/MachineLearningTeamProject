{
 "cells": [
  {
   "cell_type": "code",
   "execution_count": 3,
   "id": "770a6f77-a680-4eeb-9834-972f0550b202",
   "metadata": {},
   "outputs": [],
   "source": [
    "import numpy as np\n",
    "from tensorflow import keras\n",
    "from keras.models import Sequential\n",
    "from keras.layers import Dense, Conv2D, Flatten, Dropout, MaxPooling2D\n",
    "import os\n",
    "import glob"
   ]
  },
  {
   "cell_type": "code",
   "execution_count": 8,
   "id": "089c9c5e-24ec-411a-b592-821c7ac9f027",
   "metadata": {},
   "outputs": [],
   "source": [
    "from labelMaker import labelMaker"
   ]
  },
  {
   "cell_type": "code",
   "execution_count": 13,
   "id": "17a00b5f-fabf-4b27-bbe4-7f2c190e91e6",
   "metadata": {},
   "outputs": [],
   "source": [
    "a = labelMaker(1,2,3,4)"
   ]
  },
  {
   "cell_type": "code",
   "execution_count": 16,
   "id": "64b90e25-690b-4001-89a2-a33777ff1d78",
   "metadata": {},
   "outputs": [],
   "source": [
    "b = np.array(a)"
   ]
  },
  {
   "cell_type": "code",
   "execution_count": 17,
   "id": "1ce48798-1698-4f33-b725-edec5924864d",
   "metadata": {},
   "outputs": [
    {
     "data": {
      "text/plain": [
       "(5,)"
      ]
     },
     "execution_count": 17,
     "metadata": {},
     "output_type": "execute_result"
    }
   ],
   "source": [
    "b.shape"
   ]
  },
  {
   "cell_type": "code",
   "execution_count": 7,
   "id": "dbebcede-af5a-4831-8e73-49299e5048ab",
   "metadata": {},
   "outputs": [],
   "source": [
    "# TODO implement\n",
    "\n",
    "def get_coords_from_path(path):\n",
    "    \n",
    "    coords = path.split('_')\n",
    "    \n",
    "    return x, y"
   ]
  },
  {
   "cell_type": "code",
   "execution_count": 18,
   "id": "12f84dce-542e-4d31-9112-add5abad9d58",
   "metadata": {},
   "outputs": [],
   "source": [
    "def build_dataset_for_puzzle(pieces_path, image_dims):\n",
    "    \n",
    "    all_images = []\n",
    "    # maybe need * in puzzle pieces path\n",
    "    for f in glob.iglob(pieces_path):\n",
    "        im = skimage.io.imread(f)\n",
    "        x, y = get_coords_from_path(f)\n",
    "\n",
    "        all_images.append([  im, (x,y)  ])\n",
    "        \n",
    "    \n",
    "    N = len(all_images)**2 - len(all_images)\n",
    "    X = np.empty(  (N, image_dims[0], image_dims[1], 6)  )\n",
    "    y = np.empty(N, 5)\n",
    "    \n",
    "    idx = 0\n",
    "    for i in range(len(all_images)):\n",
    "        \n",
    "        for j in range(len(all_images)):\n",
    "            \n",
    "            if i != j:\n",
    "                \n",
    "                X[idx] = np.reshape(np.concatenate((all_images[i][0], all_images[i][1])),  (image_dims[0], image_dims[1], 6))\n",
    "                y[idx] = np.squeeze(np.array(\n",
    "                    labelMaker(\n",
    "                              all_images[i][1][0],\n",
    "                              all_images[i][1][1],\n",
    "                              all_images[j][1][0],\n",
    "                              all_images[j][1][1])))\n",
    "                idx += 1\n",
    "                \n",
    "                \n",
    "        \n",
    "        \n",
    "    "
   ]
  },
  {
   "cell_type": "code",
   "execution_count": null,
   "id": "78bfac7b-b69a-4dc4-842d-f36f622d31f1",
   "metadata": {},
   "outputs": [],
   "source": []
  }
 ],
 "metadata": {
  "kernelspec": {
   "display_name": "Python 3 (ipykernel)",
   "language": "python",
   "name": "python3"
  },
  "language_info": {
   "codemirror_mode": {
    "name": "ipython",
    "version": 3
   },
   "file_extension": ".py",
   "mimetype": "text/x-python",
   "name": "python",
   "nbconvert_exporter": "python",
   "pygments_lexer": "ipython3",
   "version": "3.9.12"
  }
 },
 "nbformat": 4,
 "nbformat_minor": 5
}
