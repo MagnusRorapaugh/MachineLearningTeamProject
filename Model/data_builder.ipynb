{
 "cells": [
  {
   "cell_type": "code",
   "execution_count": 1,
   "id": "770a6f77-a680-4eeb-9834-972f0550b202",
   "metadata": {},
   "outputs": [],
   "source": [
    "import numpy as np\n",
    "from tensorflow import keras\n",
    "from keras.models import Sequential\n",
    "from keras.layers import Dense, Conv2D, Flatten, Dropout, MaxPooling2D\n",
    "import tensorflow as tf\n",
    "import os\n",
    "import glob\n",
    "import skimage.io\n",
    "import joblib\n",
    "from PIL import Image\n",
    "import itertools\n",
    "from sklearn.model_selection import train_test_split"
   ]
  },
  {
   "cell_type": "code",
   "execution_count": 2,
   "id": "089c9c5e-24ec-411a-b592-821c7ac9f027",
   "metadata": {},
   "outputs": [],
   "source": [
    "from labelMaker import labelMaker"
   ]
  },
  {
   "cell_type": "code",
   "execution_count": 59,
   "id": "a54e56ae-b60a-4fb1-87b6-193fa52ec06f",
   "metadata": {},
   "outputs": [],
   "source": [
    "arr = np.ones((10, 5, 5, 200, 200, 3))"
   ]
  },
  {
   "cell_type": "code",
   "execution_count": 60,
   "id": "12ed071a-14ba-4712-8e8c-cf4a551fe2d2",
   "metadata": {},
   "outputs": [
    {
     "data": {
      "text/plain": [
       "(200, 200, 3)"
      ]
     },
     "execution_count": 60,
     "metadata": {},
     "output_type": "execute_result"
    }
   ],
   "source": [
    "arr[0, 0, 0, :, :, :].shape"
   ]
  },
  {
   "cell_type": "markdown",
   "id": "628f1d27-df56-4c86-9639-fe64d7f7e632",
   "metadata": {},
   "source": [
    "### Build dataset from data team's format"
   ]
  },
  {
   "cell_type": "code",
   "execution_count": 3,
   "id": "bf0be9e1-c3a5-4fb4-8cc0-7b4df34c8abd",
   "metadata": {},
   "outputs": [],
   "source": [
    "def build_dataset_from_arr(data_file, puzzle_dims=(5,5)):\n",
    "    \n",
    "    im_list = []\n",
    "    #y_list = []\n",
    "    #X_list = []\n",
    "    \n",
    "    \n",
    "    \n",
    "    data_arr = joblib.load(data_file)\n",
    "    \n",
    "    X_list = np.empty((2148000, data_arr.shape[3], data_arr.shape[4], 6))\n",
    "    y_list = np.empty((2148000, 5))\n",
    "    \n",
    "    pieceIndexs = [0, 1, 2, 3, 4]\n",
    "    \n",
    "    coordinates = []\n",
    "    for i in pieceIndexs:\n",
    "        for j in pieceIndexs:\n",
    "            coordinates.append((i, j))\n",
    "    #print(\"COORDS\", coordinates)\n",
    "    pairsList = list(itertools.permutations(coordinates, 2))\n",
    "#     for tupleIndex in range(len(pairsList)):\n",
    "#         originalTuple = pairsList[tupleIndex]\n",
    "#         newOne = originalTuple[0] - 1\n",
    "#         newTwo = originalTuple[1] - 1\n",
    "#         pairsList[tupleIndex] = (newOne, newTwo)\n",
    "    #print(\"COORDS\", coordinates)\n",
    "    #print(len(pairsList))\n",
    "    #print(pairsList)\n",
    "    counter = 0\n",
    "    for puzz_idx in range(data_arr.shape[0]):\n",
    "        \n",
    "        \n",
    "        for pair in pairsList:\n",
    "            tup1 = pair[0]\n",
    "            tup2 = pair[1]\n",
    "        \n",
    "#         for i in range(data_arr.shape[1]):\n",
    "#             for j in range(data_arr.shape[2]):\n",
    "                    \n",
    "#                 im_list.append((data_arr[puzz_idx, i, j, :, :, :], (i,j)))\n",
    "#         for tup in pairsList:\n",
    "\n",
    "\n",
    "            X_list[counter] = (\n",
    "                np.reshape(\n",
    "                    np.concatenate(\n",
    "                        (data_arr[puzz_idx][tup1[0]][tup1[1]], data_arr[puzz_idx][tup2[0]][tup2[1]])\n",
    "                    ),\n",
    "                    (data_arr.shape[3], data_arr.shape[4], 6)\n",
    "                )\n",
    "            )\n",
    "            y_list[counter] = (np.array(labelMaker(tup1[0],tup1[1],tup2[0],tup2[1])))\n",
    "\n",
    "            counter += 1\n",
    "\n",
    "            \n",
    "\n",
    "\n",
    "\n",
    "#         print(\"phase 1\")\n",
    "#         counter = 0\n",
    "#         for i in range(len(im_list)):\n",
    "#             for j in range(len(im_list)):\n",
    "                \n",
    "#                 if not i == j:\n",
    "#                     X_list[counter] = (\n",
    "#                         np.reshape(\n",
    "#                             np.concatenate(\n",
    "#                                 (im_list[i][0], im_list[j][0])\n",
    "#                             ),\n",
    "#                             (data_arr.shape[3], data_arr.shape[4], 6)\n",
    "#                         )\n",
    "#                     )\n",
    "#                     y_list[counter] = (np.array(labelMaker(im_list[i][1][0],im_list[i][1][1],im_list[j][1][0],im_list[j][1][1])))\n",
    "\n",
    "#                     counter += 1\n",
    "    \n",
    "#     full_X = np.empty((len(X_list), *X_list[0].shape))\n",
    "#     print('DEBUG: '+ str(full_X.shape[0]) + ' ' + str(full_X.shape[1]) + ' ' + str(full_X.shape[2]) + ' ' + str(full_X.shape[3]))\n",
    "#     full_y = np.empty((len(y_list), 5))\n",
    "    \n",
    "#     for i in range(len(X_list)):\n",
    "#         #print(X_list[i])\n",
    "#         full_X[i] = X_list[i]\n",
    "#         #print(y_list[i].tolist())\n",
    "#         full_y[i] = y_list[i].tolist()\n",
    "        \n",
    "    \n",
    "    return X_list, y_list"
   ]
  },
  {
   "cell_type": "code",
   "execution_count": 4,
   "id": "3cdac588",
   "metadata": {
    "pycharm": {
     "name": "#%%\n"
    }
   },
   "outputs": [],
   "source": [
    "data_path = r'C:\\machine learning workspace\\final project\\MachineLearningTeamProject\\Model\\allImages_20'"
   ]
  },
  {
   "cell_type": "code",
   "execution_count": 5,
   "id": "a32dcd6c-e2bc-4ab9-bc66-56621420edd2",
   "metadata": {
    "pycharm": {
     "name": "#%%\n"
    }
   },
   "outputs": [],
   "source": [
    "X, y = build_dataset_from_arr(data_path)"
   ]
  },
  {
   "cell_type": "code",
   "execution_count": 25,
   "id": "601401ff",
   "metadata": {
    "pycharm": {
     "name": "#%%\n"
    }
   },
   "outputs": [],
   "source": [
    "sample_X, sample_y = X[:100], y[:100]"
   ]
  },
  {
   "cell_type": "code",
   "execution_count": 6,
   "id": "76e29a10",
   "metadata": {
    "pycharm": {
     "name": "#%%\n"
    }
   },
   "outputs": [
    {
     "data": {
      "text/plain": [
       "(2148000, 20, 20, 6)"
      ]
     },
     "execution_count": 6,
     "metadata": {},
     "output_type": "execute_result"
    }
   ],
   "source": [
    "X.shape"
   ]
  },
  {
   "cell_type": "code",
   "execution_count": 7,
   "id": "47608e3e-0cb8-4e40-8d5b-4d539ecb10d8",
   "metadata": {
    "pycharm": {
     "name": "#%%\n"
    }
   },
   "outputs": [],
   "source": [
    "def preprocess_norm(X):\n",
    "    X = X / 255.0\n",
    "    \n",
    "    return X"
   ]
  },
  {
   "cell_type": "code",
   "execution_count": 8,
   "id": "7838dd68-68c9-42f4-90f2-af0250c81317",
   "metadata": {
    "pycharm": {
     "name": "#%%\n"
    }
   },
   "outputs": [],
   "source": [
    "def equalize_labels(X, y, pct_connected=0.5):\n",
    "    print(y)\n",
    "    print(np.where(y[:,4] == 0))\n",
    "    adj_X = X[np.where(y[:,4] == 0)]\n",
    "    adj_y = y[np.where(y[:,4] == 0)]\n",
    "    \n",
    "    print(adj_X.shape)\n",
    "    \n",
    "    n_adj_X = X[np.where(y[:,4] == 1)]\n",
    "    n_adj_y = y[np.where(y[:,4] == 1)]\n",
    "    \n",
    "    total_adj = adj_X.shape[0]\n",
    "\n",
    "    idx_mask = np.random.choice(np.arange(n_adj_X.shape[0]), int((total_adj/pct_connected)-total_adj) , replace=False)\n",
    "    \n",
    "    X = np.concatenate((n_adj_X[idx_mask], adj_X))\n",
    "    y = np.concatenate((n_adj_y[idx_mask], adj_y))\n",
    "    \n",
    "    return X, y\n",
    "    "
   ]
  },
  {
   "cell_type": "code",
   "execution_count": 9,
   "id": "7f125bc7",
   "metadata": {
    "pycharm": {
     "name": "#%%\n"
    }
   },
   "outputs": [],
   "source": [
    "X = preprocess_norm(X)"
   ]
  },
  {
   "cell_type": "code",
   "execution_count": 10,
   "id": "98557f8f",
   "metadata": {
    "pycharm": {
     "name": "#%%\n"
    }
   },
   "outputs": [
    {
     "name": "stdout",
     "output_type": "stream",
     "text": [
      "[[0. 1. 0. 0. 0.]\n",
      " [0. 0. 0. 0. 1.]\n",
      " [0. 0. 0. 0. 1.]\n",
      " ...\n",
      " [0. 0. 0. 0. 1.]\n",
      " [0. 0. 0. 0. 1.]\n",
      " [1. 0. 0. 0. 0.]]\n",
      "(array([      0,       4,      24, ..., 2147975, 2147995, 2147999],\n",
      "      dtype=int64),)\n",
      "(286400, 20, 20, 6)\n"
     ]
    }
   ],
   "source": [
    "X, y = equalize_labels(X, y)"
   ]
  },
  {
   "cell_type": "code",
   "execution_count": 11,
   "id": "c5cd8ae7",
   "metadata": {
    "pycharm": {
     "name": "#%%\n"
    }
   },
   "outputs": [
    {
     "data": {
      "text/plain": [
       "(572800, 20, 20, 6)"
      ]
     },
     "execution_count": 11,
     "metadata": {},
     "output_type": "execute_result"
    }
   ],
   "source": [
    "X.shape"
   ]
  },
  {
   "cell_type": "code",
   "execution_count": 12,
   "id": "3b0dc876",
   "metadata": {
    "pycharm": {
     "name": "#%%\n"
    }
   },
   "outputs": [
    {
     "data": {
      "text/plain": [
       "(572800, 5)"
      ]
     },
     "execution_count": 12,
     "metadata": {},
     "output_type": "execute_result"
    }
   ],
   "source": [
    "y.shape"
   ]
  },
  {
   "cell_type": "code",
   "execution_count": 13,
   "id": "a94eaecc-11cf-4179-a8b8-587a5966a7bd",
   "metadata": {
    "pycharm": {
     "name": "#%%\n"
    }
   },
   "outputs": [],
   "source": [
    "save_path_X = r'C:\\machine learning workspace\\final project\\MachineLearningTeamProject\\Model\\preprocessedData_X_20_50split'\n",
    "save_path_y = r'C:\\machine learning workspace\\final project\\MachineLearningTeamProject\\Model\\preprocessedData_y_20_50split'"
   ]
  },
  {
   "cell_type": "code",
   "execution_count": 14,
   "id": "f1636984-0bb8-43c3-bb26-de1fee49d3d7",
   "metadata": {
    "pycharm": {
     "name": "#%%\n"
    }
   },
   "outputs": [
    {
     "data": {
      "text/plain": [
       "['C:\\\\machine learning workspace\\\\final project\\\\MachineLearningTeamProject\\\\Model\\\\preprocessedData_y_20_50split']"
      ]
     },
     "execution_count": 14,
     "metadata": {},
     "output_type": "execute_result"
    }
   ],
   "source": [
    "joblib.dump(X, save_path_X, compress=0)\n",
    "joblib.dump(y, save_path_y, compress=0)"
   ]
  },
  {
   "cell_type": "markdown",
   "id": "08c7e18c-40f6-4f94-bedd-8572a7b8a20a",
   "metadata": {
    "pycharm": {
     "name": "#%% md\n"
    }
   },
   "source": [
    "### Simple Model Playground"
   ]
  },
  {
   "cell_type": "code",
   "execution_count": 132,
   "id": "1c28fca6-b5ec-4f1d-8d78-f4624ac1da02",
   "metadata": {
    "pycharm": {
     "name": "#%%\n"
    }
   },
   "outputs": [
    {
     "data": {
      "text/plain": [
       "array([[1., 0., 0., 0., 0.],\n",
       "       [0., 0., 0., 0., 1.],\n",
       "       [0., 0., 0., 0., 1.],\n",
       "       ...,\n",
       "       [0., 0., 0., 0., 1.],\n",
       "       [0., 0., 0., 0., 1.],\n",
       "       [1., 0., 0., 0., 0.]])"
      ]
     },
     "execution_count": 132,
     "metadata": {},
     "output_type": "execute_result"
    }
   ],
   "source": [
    "y"
   ]
  },
  {
   "cell_type": "code",
   "execution_count": 2,
   "id": "8c7b2294",
   "metadata": {
    "pycharm": {
     "name": "#%%\n"
    }
   },
   "outputs": [],
   "source": [
    "load_path_X = r'C:\\machine learning workspace\\final project\\MachineLearningTeamProject\\Model\\preprocessedData_X_20_50split'\n",
    "load_path_y = r'C:\\machine learning workspace\\final project\\MachineLearningTeamProject\\Model\\preprocessedData_y_20_50split'"
   ]
  },
  {
   "cell_type": "code",
   "execution_count": 3,
   "id": "60372c7b",
   "metadata": {},
   "outputs": [],
   "source": [
    "X = joblib.load(load_path_X)\n",
    "y = joblib.load(load_path_y)"
   ]
  },
  {
   "cell_type": "code",
   "execution_count": 7,
   "id": "9155b96b",
   "metadata": {},
   "outputs": [
    {
     "data": {
      "text/plain": [
       "(572800, 20, 20, 6)"
      ]
     },
     "execution_count": 7,
     "metadata": {},
     "output_type": "execute_result"
    }
   ],
   "source": [
    "X.shape"
   ]
  },
  {
   "cell_type": "code",
   "execution_count": 21,
   "id": "4b3d9fa7",
   "metadata": {},
   "outputs": [
    {
     "data": {
      "text/plain": [
       "(572800, 5)"
      ]
     },
     "execution_count": 21,
     "metadata": {},
     "output_type": "execute_result"
    }
   ],
   "source": [
    "y.shape"
   ]
  },
  {
   "cell_type": "code",
   "execution_count": 4,
   "id": "6acb8f11",
   "metadata": {},
   "outputs": [],
   "source": [
    "X_train, X_test, y_train, y_test = train_test_split(X, y, test_size=0.2, random_state=42)"
   ]
  },
  {
   "cell_type": "code",
   "execution_count": 5,
   "id": "26d36c82-6fc3-4671-b9b7-4c88380d9d63",
   "metadata": {},
   "outputs": [],
   "source": [
    "def build_CNN_w_pooling(X):    \n",
    "    model = Sequential()\n",
    "\n",
    "    model.add(Conv2D(64,(3,3),input_shape=X.shape[1:] ,activation = 'relu',padding='same',))\n",
    "    #model.add(MaxPooling2D(pool_size=(2,2)))\n",
    "    #model.add(Dropout(0.2))\n",
    "    \n",
    "    model.add(Conv2D(64,(3,3),input_shape=X.shape[1:] ,activation = 'relu',padding='same',))\n",
    "    #model.add(MaxPooling2D(pool_size=(2,2)))\n",
    "    #model.add(Dropout(0.2))\n",
    "    \n",
    "    model.add(Conv2D(64,(3,3),input_shape=X.shape[1:] ,activation = 'relu',padding='same',))\n",
    "    #model.add(MaxPooling2D(pool_size=(2,2)))\n",
    "    model.add(Dropout(0.1))\n",
    "\n",
    "    model.add(Conv2D(128, (3, 3), activation='relu', padding='same'))\n",
    "    #model.add(MaxPooling2D((2, 2)))\n",
    "    model.add(Dropout(0.1))\n",
    "\n",
    "    model.add(Conv2D(128, (3, 3), activation='relu', padding='same'))\n",
    "    model.add(MaxPooling2D((2, 2)))\n",
    "    model.add(Dropout(0.2))\n",
    "    \n",
    "    model.add(Conv2D(256, (3, 3), activation='relu', padding='same'))\n",
    "    model.add(MaxPooling2D((2, 2)))\n",
    "    model.add(Dropout(0.2))\n",
    "\n",
    "    model.add(Flatten())\n",
    "\n",
    "    \n",
    "    model.add(Dense(128, activation='relu'))\n",
    "    model.add(Dropout(0.5))\n",
    "    model.add(Dense(128, activation='relu'))\n",
    "    model.add(Dropout(0.5))\n",
    "    model.add(Dense(32, activation='relu'))\n",
    "    model.add(Dropout(0.5))\n",
    "   \n",
    "    \n",
    "    model.add(Dense(5, activation='softmax'))\n",
    "\n",
    "    model.compile(optimizer = 'adam',loss = 'categorical_crossentropy', metrics = ['accuracy'])\n",
    "    \n",
    "    return model"
   ]
  },
  {
   "cell_type": "code",
   "execution_count": 7,
   "id": "295d6722",
   "metadata": {},
   "outputs": [],
   "source": [
    "callback = tf.keras.callbacks.EarlyStopping(monitor='loss', patience=3)"
   ]
  },
  {
   "cell_type": "code",
   "execution_count": 6,
   "id": "e7fd6e13-df86-42cb-b936-d49045fda1d2",
   "metadata": {},
   "outputs": [
    {
     "name": "stdout",
     "output_type": "stream",
     "text": [
      "Epoch 1/150\n",
      "101/101 [==============================] - 36s 263ms/step - loss: 1.4352 - accuracy: 0.4914 - val_loss: 1.3553 - val_accuracy: 0.5015\n",
      "Epoch 2/150\n",
      "101/101 [==============================] - 24s 240ms/step - loss: 1.3223 - accuracy: 0.5152 - val_loss: 1.2268 - val_accuracy: 0.5614\n",
      "Epoch 3/150\n",
      "101/101 [==============================] - 24s 241ms/step - loss: 1.1921 - accuracy: 0.5734 - val_loss: 1.1084 - val_accuracy: 0.5867\n",
      "Epoch 4/150\n",
      "101/101 [==============================] - 24s 241ms/step - loss: 1.1230 - accuracy: 0.5883 - val_loss: 1.0654 - val_accuracy: 0.5952\n",
      "Epoch 5/150\n",
      "101/101 [==============================] - 24s 242ms/step - loss: 1.1016 - accuracy: 0.5923 - val_loss: 1.0508 - val_accuracy: 0.5960\n",
      "Epoch 6/150\n",
      "101/101 [==============================] - 24s 242ms/step - loss: 1.0724 - accuracy: 0.5956 - val_loss: 1.0189 - val_accuracy: 0.6005\n",
      "Epoch 7/150\n",
      "101/101 [==============================] - 24s 242ms/step - loss: 1.0562 - accuracy: 0.5967 - val_loss: 1.0269 - val_accuracy: 0.6018\n",
      "Epoch 8/150\n",
      "101/101 [==============================] - 25s 243ms/step - loss: 1.0287 - accuracy: 0.5984 - val_loss: 0.9544 - val_accuracy: 0.6022\n",
      "Epoch 9/150\n",
      "101/101 [==============================] - 24s 242ms/step - loss: 1.0283 - accuracy: 0.5977 - val_loss: 1.0327 - val_accuracy: 0.5985\n",
      "Epoch 10/150\n",
      "101/101 [==============================] - 24s 242ms/step - loss: 1.0026 - accuracy: 0.5988 - val_loss: 0.9348 - val_accuracy: 0.6035\n",
      "Epoch 11/150\n",
      "101/101 [==============================] - 24s 241ms/step - loss: 0.9767 - accuracy: 0.6006 - val_loss: 0.9252 - val_accuracy: 0.6037\n",
      "Epoch 12/150\n",
      "101/101 [==============================] - 24s 242ms/step - loss: 0.9578 - accuracy: 0.6026 - val_loss: 0.9057 - val_accuracy: 0.6053\n",
      "Epoch 13/150\n",
      "101/101 [==============================] - 24s 242ms/step - loss: 0.9379 - accuracy: 0.6076 - val_loss: 0.8672 - val_accuracy: 0.6386\n",
      "Epoch 14/150\n",
      "101/101 [==============================] - 24s 242ms/step - loss: 0.9266 - accuracy: 0.6118 - val_loss: 0.8656 - val_accuracy: 0.6415\n",
      "Epoch 15/150\n",
      "101/101 [==============================] - 24s 242ms/step - loss: 0.9179 - accuracy: 0.6153 - val_loss: 0.8545 - val_accuracy: 0.6448\n",
      "Epoch 16/150\n",
      "101/101 [==============================] - 24s 242ms/step - loss: 0.9076 - accuracy: 0.6202 - val_loss: 0.8630 - val_accuracy: 0.6272\n",
      "Epoch 17/150\n",
      "101/101 [==============================] - 24s 242ms/step - loss: 0.8934 - accuracy: 0.6249 - val_loss: 0.8403 - val_accuracy: 0.6538\n",
      "Epoch 18/150\n",
      "101/101 [==============================] - 24s 242ms/step - loss: 0.8821 - accuracy: 0.6299 - val_loss: 0.8273 - val_accuracy: 0.6647\n",
      "Epoch 19/150\n",
      "101/101 [==============================] - 24s 241ms/step - loss: 0.8760 - accuracy: 0.6333 - val_loss: 0.8002 - val_accuracy: 0.6707\n",
      "Epoch 20/150\n",
      "101/101 [==============================] - 24s 241ms/step - loss: 0.8633 - accuracy: 0.6384 - val_loss: 0.7950 - val_accuracy: 0.6733\n",
      "Epoch 21/150\n",
      "101/101 [==============================] - 24s 241ms/step - loss: 0.8588 - accuracy: 0.6406 - val_loss: 0.7839 - val_accuracy: 0.6747\n",
      "Epoch 22/150\n",
      "101/101 [==============================] - 24s 241ms/step - loss: 0.8488 - accuracy: 0.6434 - val_loss: 0.7897 - val_accuracy: 0.6761\n",
      "Epoch 23/150\n",
      "101/101 [==============================] - 24s 241ms/step - loss: 0.8475 - accuracy: 0.6445 - val_loss: 0.7818 - val_accuracy: 0.6776\n",
      "Epoch 24/150\n",
      "101/101 [==============================] - 24s 241ms/step - loss: 0.8429 - accuracy: 0.6464 - val_loss: 0.7737 - val_accuracy: 0.6799\n",
      "Epoch 25/150\n",
      "101/101 [==============================] - 24s 241ms/step - loss: 0.8327 - accuracy: 0.6503 - val_loss: 0.7663 - val_accuracy: 0.6824\n",
      "Epoch 26/150\n",
      "101/101 [==============================] - 24s 241ms/step - loss: 0.8300 - accuracy: 0.6512 - val_loss: 0.7697 - val_accuracy: 0.6786\n",
      "Epoch 27/150\n",
      "101/101 [==============================] - 24s 241ms/step - loss: 0.8207 - accuracy: 0.6558 - val_loss: 0.7570 - val_accuracy: 0.6849\n",
      "Epoch 28/150\n",
      "101/101 [==============================] - 24s 241ms/step - loss: 0.8191 - accuracy: 0.6564 - val_loss: 0.7704 - val_accuracy: 0.6819\n",
      "Epoch 29/150\n",
      "101/101 [==============================] - 24s 241ms/step - loss: 0.8083 - accuracy: 0.6606 - val_loss: 0.7364 - val_accuracy: 0.6895\n",
      "Epoch 30/150\n",
      "101/101 [==============================] - 24s 241ms/step - loss: 0.8044 - accuracy: 0.6620 - val_loss: 0.7424 - val_accuracy: 0.6904\n",
      "Epoch 31/150\n",
      "101/101 [==============================] - 24s 241ms/step - loss: 0.8010 - accuracy: 0.6644 - val_loss: 0.7426 - val_accuracy: 0.6892\n",
      "Epoch 32/150\n",
      "101/101 [==============================] - 24s 241ms/step - loss: 0.7952 - accuracy: 0.6663 - val_loss: 0.7381 - val_accuracy: 0.6903\n",
      "Epoch 33/150\n",
      "101/101 [==============================] - 24s 242ms/step - loss: 0.7886 - accuracy: 0.6680 - val_loss: 0.7415 - val_accuracy: 0.6915\n",
      "Epoch 34/150\n",
      "101/101 [==============================] - 24s 241ms/step - loss: 0.7877 - accuracy: 0.6687 - val_loss: 0.7332 - val_accuracy: 0.6997\n",
      "Epoch 35/150\n",
      "101/101 [==============================] - 24s 241ms/step - loss: 0.7829 - accuracy: 0.6715 - val_loss: 0.7253 - val_accuracy: 0.6994\n",
      "Epoch 36/150\n",
      "101/101 [==============================] - 24s 242ms/step - loss: 0.7806 - accuracy: 0.6722 - val_loss: 0.7145 - val_accuracy: 0.7018\n",
      "Epoch 37/150\n",
      "101/101 [==============================] - 24s 241ms/step - loss: 0.7704 - accuracy: 0.6774 - val_loss: 0.7110 - val_accuracy: 0.7096\n",
      "Epoch 38/150\n",
      "101/101 [==============================] - 24s 242ms/step - loss: 0.7727 - accuracy: 0.6762 - val_loss: 0.7217 - val_accuracy: 0.7042\n",
      "Epoch 39/150\n",
      "101/101 [==============================] - 24s 241ms/step - loss: 0.7638 - accuracy: 0.6797 - val_loss: 0.7124 - val_accuracy: 0.7073\n",
      "Epoch 40/150\n",
      "101/101 [==============================] - 24s 241ms/step - loss: 0.7573 - accuracy: 0.6822 - val_loss: 0.7032 - val_accuracy: 0.7080\n",
      "Epoch 41/150\n",
      "101/101 [==============================] - 24s 241ms/step - loss: 0.7548 - accuracy: 0.6825 - val_loss: 0.6756 - val_accuracy: 0.7259\n",
      "Epoch 42/150\n",
      "101/101 [==============================] - 24s 241ms/step - loss: 0.7443 - accuracy: 0.6867 - val_loss: 0.6680 - val_accuracy: 0.7265\n",
      "Epoch 43/150\n",
      "101/101 [==============================] - 24s 242ms/step - loss: 0.7368 - accuracy: 0.6892 - val_loss: 0.6727 - val_accuracy: 0.7189\n",
      "Epoch 44/150\n",
      "101/101 [==============================] - 24s 241ms/step - loss: 0.7291 - accuracy: 0.6904 - val_loss: 0.6444 - val_accuracy: 0.7284\n",
      "Epoch 45/150\n",
      "101/101 [==============================] - 24s 241ms/step - loss: 0.7254 - accuracy: 0.6905 - val_loss: 0.6384 - val_accuracy: 0.7311\n",
      "Epoch 46/150\n",
      "101/101 [==============================] - 24s 241ms/step - loss: 0.7184 - accuracy: 0.6923 - val_loss: 0.6375 - val_accuracy: 0.7313\n",
      "Epoch 47/150\n",
      "101/101 [==============================] - 24s 241ms/step - loss: 0.7121 - accuracy: 0.6950 - val_loss: 0.6421 - val_accuracy: 0.7203\n",
      "Epoch 48/150\n",
      "101/101 [==============================] - 24s 241ms/step - loss: 0.7010 - accuracy: 0.6966 - val_loss: 0.6120 - val_accuracy: 0.7360\n",
      "Epoch 49/150\n",
      "101/101 [==============================] - 24s 241ms/step - loss: 0.6920 - accuracy: 0.6994 - val_loss: 0.5962 - val_accuracy: 0.7384\n",
      "Epoch 50/150\n",
      "101/101 [==============================] - 24s 241ms/step - loss: 0.6860 - accuracy: 0.6999 - val_loss: 0.5848 - val_accuracy: 0.7423\n",
      "Epoch 51/150\n",
      "101/101 [==============================] - 24s 241ms/step - loss: 0.6787 - accuracy: 0.7032 - val_loss: 0.5972 - val_accuracy: 0.7375\n",
      "Epoch 52/150\n",
      "101/101 [==============================] - 24s 241ms/step - loss: 0.6764 - accuracy: 0.7028 - val_loss: 0.5636 - val_accuracy: 0.7560\n",
      "Epoch 53/150\n",
      "101/101 [==============================] - 24s 241ms/step - loss: 0.6736 - accuracy: 0.7030 - val_loss: 0.5608 - val_accuracy: 0.7602\n",
      "Epoch 54/150\n",
      "101/101 [==============================] - 24s 241ms/step - loss: 0.6626 - accuracy: 0.7064 - val_loss: 0.5717 - val_accuracy: 0.7570\n",
      "Epoch 55/150\n",
      "101/101 [==============================] - 24s 241ms/step - loss: 0.6635 - accuracy: 0.7063 - val_loss: 0.5632 - val_accuracy: 0.7617\n",
      "Epoch 56/150\n",
      "101/101 [==============================] - 24s 241ms/step - loss: 0.6510 - accuracy: 0.7127 - val_loss: 0.5495 - val_accuracy: 0.7617\n"
     ]
    },
    {
     "name": "stdout",
     "output_type": "stream",
     "text": [
      "Epoch 57/150\n",
      "101/101 [==============================] - 24s 241ms/step - loss: 0.6478 - accuracy: 0.7129 - val_loss: 0.5465 - val_accuracy: 0.7828\n",
      "Epoch 58/150\n",
      "101/101 [==============================] - 24s 241ms/step - loss: 0.6513 - accuracy: 0.7118 - val_loss: 0.5509 - val_accuracy: 0.7770\n",
      "Epoch 59/150\n",
      "101/101 [==============================] - 24s 241ms/step - loss: 0.6400 - accuracy: 0.7174 - val_loss: 0.5487 - val_accuracy: 0.7801\n",
      "Epoch 60/150\n",
      "101/101 [==============================] - 24s 241ms/step - loss: 0.6305 - accuracy: 0.7232 - val_loss: 0.5436 - val_accuracy: 0.7822\n",
      "Epoch 61/150\n",
      "101/101 [==============================] - 24s 241ms/step - loss: 0.6372 - accuracy: 0.7200 - val_loss: 0.5339 - val_accuracy: 0.7889\n",
      "Epoch 62/150\n",
      "101/101 [==============================] - 24s 242ms/step - loss: 0.6318 - accuracy: 0.7223 - val_loss: 0.5458 - val_accuracy: 0.7834\n",
      "Epoch 63/150\n",
      "101/101 [==============================] - 24s 241ms/step - loss: 0.6301 - accuracy: 0.7235 - val_loss: 0.5347 - val_accuracy: 0.7854\n",
      "Epoch 64/150\n",
      "101/101 [==============================] - 24s 242ms/step - loss: 0.6210 - accuracy: 0.7297 - val_loss: 0.5300 - val_accuracy: 0.7918\n",
      "Epoch 65/150\n",
      "101/101 [==============================] - 25s 244ms/step - loss: 0.6276 - accuracy: 0.7249 - val_loss: 0.5299 - val_accuracy: 0.7863\n",
      "Epoch 66/150\n",
      "101/101 [==============================] - 25s 247ms/step - loss: 0.6187 - accuracy: 0.7284 - val_loss: 0.5451 - val_accuracy: 0.7768\n",
      "Epoch 67/150\n",
      "101/101 [==============================] - 25s 248ms/step - loss: 0.6143 - accuracy: 0.7310 - val_loss: 0.5364 - val_accuracy: 0.7853\n",
      "Epoch 68/150\n",
      "101/101 [==============================] - 25s 244ms/step - loss: 0.6169 - accuracy: 0.7329 - val_loss: 0.5197 - val_accuracy: 0.7945\n",
      "Epoch 69/150\n",
      "101/101 [==============================] - 24s 242ms/step - loss: 0.6085 - accuracy: 0.7348 - val_loss: 0.5106 - val_accuracy: 0.8000\n",
      "Epoch 70/150\n",
      "101/101 [==============================] - 25s 247ms/step - loss: 0.6094 - accuracy: 0.7372 - val_loss: 0.5255 - val_accuracy: 0.7966\n",
      "Epoch 71/150\n",
      "101/101 [==============================] - 26s 257ms/step - loss: 0.6031 - accuracy: 0.7384 - val_loss: 0.5164 - val_accuracy: 0.8038\n",
      "Epoch 72/150\n",
      "101/101 [==============================] - 25s 249ms/step - loss: 0.6054 - accuracy: 0.7374 - val_loss: 0.5270 - val_accuracy: 0.7950\n",
      "Epoch 73/150\n",
      "101/101 [==============================] - 25s 244ms/step - loss: 0.6043 - accuracy: 0.7379 - val_loss: 0.5194 - val_accuracy: 0.8031\n",
      "Epoch 74/150\n",
      "101/101 [==============================] - 25s 243ms/step - loss: 0.6024 - accuracy: 0.7399 - val_loss: 0.5107 - val_accuracy: 0.8062\n",
      "Epoch 75/150\n",
      "101/101 [==============================] - 26s 259ms/step - loss: 0.6014 - accuracy: 0.7406 - val_loss: 0.5114 - val_accuracy: 0.7991\n",
      "Epoch 76/150\n",
      "101/101 [==============================] - 27s 263ms/step - loss: 0.6015 - accuracy: 0.7398 - val_loss: 0.5179 - val_accuracy: 0.7982\n",
      "Epoch 77/150\n",
      "101/101 [==============================] - 26s 258ms/step - loss: 0.5946 - accuracy: 0.7441 - val_loss: 0.5106 - val_accuracy: 0.8073\n",
      "Epoch 78/150\n",
      "101/101 [==============================] - 26s 258ms/step - loss: 0.5933 - accuracy: 0.7451 - val_loss: 0.5118 - val_accuracy: 0.8079\n",
      "Epoch 79/150\n",
      "101/101 [==============================] - 26s 258ms/step - loss: 0.5873 - accuracy: 0.7476 - val_loss: 0.5010 - val_accuracy: 0.8072\n",
      "Epoch 80/150\n",
      "101/101 [==============================] - 26s 258ms/step - loss: 0.5896 - accuracy: 0.7470 - val_loss: 0.5059 - val_accuracy: 0.8123\n",
      "Epoch 81/150\n",
      "101/101 [==============================] - 26s 258ms/step - loss: 0.5902 - accuracy: 0.7476 - val_loss: 0.5131 - val_accuracy: 0.7967\n",
      "Epoch 82/150\n",
      "101/101 [==============================] - 26s 258ms/step - loss: 0.5875 - accuracy: 0.7474 - val_loss: 0.5077 - val_accuracy: 0.8120\n",
      "Epoch 83/150\n",
      "101/101 [==============================] - 26s 258ms/step - loss: 0.5803 - accuracy: 0.7523 - val_loss: 0.5130 - val_accuracy: 0.7984\n",
      "Epoch 84/150\n",
      "101/101 [==============================] - 26s 258ms/step - loss: 0.5833 - accuracy: 0.7507 - val_loss: 0.5038 - val_accuracy: 0.8097\n",
      "Epoch 85/150\n",
      "101/101 [==============================] - 25s 252ms/step - loss: 0.5785 - accuracy: 0.7541 - val_loss: 0.5008 - val_accuracy: 0.8125\n",
      "Epoch 86/150\n",
      "101/101 [==============================] - 25s 246ms/step - loss: 0.5775 - accuracy: 0.7545 - val_loss: 0.5030 - val_accuracy: 0.8097\n",
      "Epoch 87/150\n",
      "101/101 [==============================] - 25s 243ms/step - loss: 0.5846 - accuracy: 0.7497 - val_loss: 0.4946 - val_accuracy: 0.8090\n",
      "Epoch 88/150\n",
      "101/101 [==============================] - 25s 248ms/step - loss: 0.5786 - accuracy: 0.7525 - val_loss: 0.5270 - val_accuracy: 0.7979\n",
      "Epoch 89/150\n",
      "101/101 [==============================] - 25s 248ms/step - loss: 0.5763 - accuracy: 0.7540 - val_loss: 0.5030 - val_accuracy: 0.8103\n",
      "Epoch 90/150\n",
      "101/101 [==============================] - 25s 243ms/step - loss: 0.5788 - accuracy: 0.7541 - val_loss: 0.5093 - val_accuracy: 0.8055\n",
      "Epoch 91/150\n",
      "101/101 [==============================] - 25s 244ms/step - loss: 0.5747 - accuracy: 0.7561 - val_loss: 0.4954 - val_accuracy: 0.8117\n",
      "Epoch 92/150\n",
      "101/101 [==============================] - 25s 244ms/step - loss: 0.5714 - accuracy: 0.7578 - val_loss: 0.5297 - val_accuracy: 0.7907\n",
      "Epoch 93/150\n",
      "101/101 [==============================] - 25s 245ms/step - loss: 0.5682 - accuracy: 0.7590 - val_loss: 0.4936 - val_accuracy: 0.8106\n",
      "Epoch 94/150\n",
      "101/101 [==============================] - 25s 246ms/step - loss: 0.5641 - accuracy: 0.7617 - val_loss: 0.4923 - val_accuracy: 0.8148\n",
      "Epoch 95/150\n",
      "101/101 [==============================] - 25s 243ms/step - loss: 0.5671 - accuracy: 0.7597 - val_loss: 0.4899 - val_accuracy: 0.8115\n",
      "Epoch 96/150\n",
      "101/101 [==============================] - 24s 242ms/step - loss: 0.5635 - accuracy: 0.7610 - val_loss: 0.4991 - val_accuracy: 0.8128\n",
      "Epoch 97/150\n",
      "101/101 [==============================] - 24s 242ms/step - loss: 0.5660 - accuracy: 0.7601 - val_loss: 0.4923 - val_accuracy: 0.8151\n",
      "Epoch 98/150\n",
      "101/101 [==============================] - 24s 242ms/step - loss: 0.5707 - accuracy: 0.7582 - val_loss: 0.4844 - val_accuracy: 0.8188\n",
      "Epoch 99/150\n",
      "101/101 [==============================] - 24s 242ms/step - loss: 0.5611 - accuracy: 0.7631 - val_loss: 0.5031 - val_accuracy: 0.8097\n",
      "Epoch 100/150\n",
      "101/101 [==============================] - 24s 242ms/step - loss: 0.5606 - accuracy: 0.7636 - val_loss: 0.4854 - val_accuracy: 0.8188\n",
      "Epoch 101/150\n",
      "101/101 [==============================] - 24s 242ms/step - loss: 0.5618 - accuracy: 0.7634 - val_loss: 0.4887 - val_accuracy: 0.8145\n",
      "Epoch 102/150\n",
      "101/101 [==============================] - 24s 242ms/step - loss: 0.5604 - accuracy: 0.7624 - val_loss: 0.4859 - val_accuracy: 0.8172\n",
      "Epoch 103/150\n",
      "101/101 [==============================] - 24s 242ms/step - loss: 0.5582 - accuracy: 0.7646 - val_loss: 0.4940 - val_accuracy: 0.8170\n",
      "Epoch 104/150\n",
      "101/101 [==============================] - 24s 242ms/step - loss: 0.5637 - accuracy: 0.7616 - val_loss: 0.4843 - val_accuracy: 0.8197\n",
      "Epoch 105/150\n",
      "101/101 [==============================] - 24s 242ms/step - loss: 0.5577 - accuracy: 0.7650 - val_loss: 0.4865 - val_accuracy: 0.8171\n",
      "Epoch 106/150\n",
      "101/101 [==============================] - 24s 242ms/step - loss: 0.5545 - accuracy: 0.7675 - val_loss: 0.4862 - val_accuracy: 0.8189\n",
      "Epoch 107/150\n",
      "101/101 [==============================] - 24s 242ms/step - loss: 0.5510 - accuracy: 0.7698 - val_loss: 0.5001 - val_accuracy: 0.8113\n",
      "Epoch 108/150\n",
      "101/101 [==============================] - 24s 241ms/step - loss: 0.5513 - accuracy: 0.7673 - val_loss: 0.4976 - val_accuracy: 0.8116\n",
      "Epoch 109/150\n",
      "101/101 [==============================] - 24s 241ms/step - loss: 0.5523 - accuracy: 0.7684 - val_loss: 0.4840 - val_accuracy: 0.8210\n",
      "Epoch 110/150\n",
      "101/101 [==============================] - 24s 242ms/step - loss: 0.5531 - accuracy: 0.7691 - val_loss: 0.4835 - val_accuracy: 0.8197\n",
      "Epoch 111/150\n",
      "101/101 [==============================] - 24s 241ms/step - loss: 0.5471 - accuracy: 0.7708 - val_loss: 0.4851 - val_accuracy: 0.8217\n",
      "Epoch 112/150\n"
     ]
    },
    {
     "name": "stdout",
     "output_type": "stream",
     "text": [
      "101/101 [==============================] - 24s 241ms/step - loss: 0.5507 - accuracy: 0.7693 - val_loss: 0.4981 - val_accuracy: 0.8081\n",
      "Epoch 113/150\n",
      "101/101 [==============================] - 24s 241ms/step - loss: 0.5537 - accuracy: 0.7665 - val_loss: 0.4802 - val_accuracy: 0.8201\n",
      "Epoch 114/150\n",
      "101/101 [==============================] - 24s 241ms/step - loss: 0.5485 - accuracy: 0.7704 - val_loss: 0.4802 - val_accuracy: 0.8190\n",
      "Epoch 115/150\n",
      "101/101 [==============================] - 24s 242ms/step - loss: 0.5510 - accuracy: 0.7673 - val_loss: 0.4765 - val_accuracy: 0.8200\n",
      "Epoch 116/150\n",
      "101/101 [==============================] - 24s 241ms/step - loss: 0.5521 - accuracy: 0.7680 - val_loss: 0.4838 - val_accuracy: 0.8137\n",
      "Epoch 117/150\n",
      "101/101 [==============================] - 24s 241ms/step - loss: 0.5467 - accuracy: 0.7710 - val_loss: 0.4836 - val_accuracy: 0.8170\n",
      "Epoch 118/150\n",
      "101/101 [==============================] - 24s 241ms/step - loss: 0.5487 - accuracy: 0.7702 - val_loss: 0.4822 - val_accuracy: 0.8186\n",
      "Epoch 119/150\n",
      "101/101 [==============================] - 24s 241ms/step - loss: 0.5435 - accuracy: 0.7732 - val_loss: 0.4751 - val_accuracy: 0.8231\n",
      "Epoch 120/150\n",
      "101/101 [==============================] - 24s 242ms/step - loss: 0.5436 - accuracy: 0.7726 - val_loss: 0.4931 - val_accuracy: 0.8146\n",
      "Epoch 121/150\n",
      "101/101 [==============================] - 24s 241ms/step - loss: 0.5443 - accuracy: 0.7706 - val_loss: 0.4799 - val_accuracy: 0.8217\n",
      "Epoch 122/150\n",
      "101/101 [==============================] - 24s 241ms/step - loss: 0.5446 - accuracy: 0.7728 - val_loss: 0.4872 - val_accuracy: 0.8171\n",
      "Epoch 123/150\n",
      "101/101 [==============================] - 24s 241ms/step - loss: 0.5571 - accuracy: 0.7673 - val_loss: 0.4769 - val_accuracy: 0.8171\n",
      "Epoch 124/150\n",
      "101/101 [==============================] - 24s 241ms/step - loss: 0.5388 - accuracy: 0.7746 - val_loss: 0.4912 - val_accuracy: 0.8111\n",
      "Epoch 125/150\n",
      "101/101 [==============================] - 24s 242ms/step - loss: 0.5422 - accuracy: 0.7726 - val_loss: 0.4811 - val_accuracy: 0.8235\n",
      "Epoch 126/150\n",
      "101/101 [==============================] - 24s 241ms/step - loss: 0.5405 - accuracy: 0.7753 - val_loss: 0.4800 - val_accuracy: 0.8200\n",
      "Epoch 127/150\n",
      "101/101 [==============================] - 24s 241ms/step - loss: 0.5463 - accuracy: 0.7706 - val_loss: 0.4732 - val_accuracy: 0.8235\n",
      "Epoch 128/150\n",
      "101/101 [==============================] - 24s 241ms/step - loss: 0.5405 - accuracy: 0.7758 - val_loss: 0.4777 - val_accuracy: 0.8200\n",
      "Epoch 129/150\n",
      "101/101 [==============================] - 24s 241ms/step - loss: 0.5422 - accuracy: 0.7743 - val_loss: 0.4918 - val_accuracy: 0.8108\n",
      "Epoch 130/150\n",
      "101/101 [==============================] - 24s 241ms/step - loss: 0.5376 - accuracy: 0.7757 - val_loss: 0.4814 - val_accuracy: 0.8192\n",
      "Epoch 131/150\n",
      "101/101 [==============================] - 24s 241ms/step - loss: 0.5411 - accuracy: 0.7739 - val_loss: 0.4806 - val_accuracy: 0.8222\n",
      "Epoch 132/150\n",
      "101/101 [==============================] - 24s 241ms/step - loss: 0.5330 - accuracy: 0.7779 - val_loss: 0.4832 - val_accuracy: 0.8191\n",
      "Epoch 133/150\n",
      "101/101 [==============================] - 24s 241ms/step - loss: 0.5357 - accuracy: 0.7774 - val_loss: 0.4719 - val_accuracy: 0.8261\n",
      "Epoch 134/150\n",
      "101/101 [==============================] - 24s 241ms/step - loss: 0.5345 - accuracy: 0.7759 - val_loss: 0.4811 - val_accuracy: 0.8231\n",
      "Epoch 135/150\n",
      "101/101 [==============================] - 24s 242ms/step - loss: 0.5336 - accuracy: 0.7780 - val_loss: 0.4761 - val_accuracy: 0.8224\n",
      "Epoch 136/150\n",
      "101/101 [==============================] - 24s 241ms/step - loss: 0.5347 - accuracy: 0.7769 - val_loss: 0.4920 - val_accuracy: 0.8184\n",
      "Epoch 137/150\n",
      "101/101 [==============================] - 24s 241ms/step - loss: 0.5365 - accuracy: 0.7765 - val_loss: 0.4822 - val_accuracy: 0.8204\n",
      "Epoch 138/150\n",
      "101/101 [==============================] - 24s 241ms/step - loss: 0.5341 - accuracy: 0.7782 - val_loss: 0.4748 - val_accuracy: 0.8219\n",
      "Epoch 139/150\n",
      "101/101 [==============================] - 24s 241ms/step - loss: 0.5374 - accuracy: 0.7775 - val_loss: 0.4703 - val_accuracy: 0.8215\n",
      "Epoch 140/150\n",
      "101/101 [==============================] - 24s 242ms/step - loss: 0.5302 - accuracy: 0.7792 - val_loss: 0.4708 - val_accuracy: 0.8231\n",
      "Epoch 141/150\n",
      "101/101 [==============================] - 24s 241ms/step - loss: 0.5352 - accuracy: 0.7776 - val_loss: 0.4770 - val_accuracy: 0.8204\n",
      "Epoch 142/150\n",
      "101/101 [==============================] - 24s 242ms/step - loss: 0.5324 - accuracy: 0.7792 - val_loss: 0.4694 - val_accuracy: 0.8246\n",
      "Epoch 143/150\n",
      "101/101 [==============================] - 24s 241ms/step - loss: 0.5277 - accuracy: 0.7808 - val_loss: 0.4815 - val_accuracy: 0.8211\n",
      "Epoch 144/150\n",
      "101/101 [==============================] - 24s 241ms/step - loss: 0.5307 - accuracy: 0.7807 - val_loss: 0.4672 - val_accuracy: 0.8281\n",
      "Epoch 145/150\n",
      "101/101 [==============================] - 24s 242ms/step - loss: 0.5330 - accuracy: 0.7776 - val_loss: 0.4773 - val_accuracy: 0.8224\n",
      "Epoch 146/150\n",
      "101/101 [==============================] - 24s 242ms/step - loss: 0.5328 - accuracy: 0.7790 - val_loss: 0.4875 - val_accuracy: 0.8179\n",
      "Epoch 147/150\n",
      "101/101 [==============================] - 24s 241ms/step - loss: 0.5334 - accuracy: 0.7781 - val_loss: 0.4698 - val_accuracy: 0.8240\n",
      "Epoch 148/150\n",
      "101/101 [==============================] - 24s 241ms/step - loss: 0.5327 - accuracy: 0.7796 - val_loss: 0.4806 - val_accuracy: 0.8198\n",
      "Epoch 149/150\n",
      "101/101 [==============================] - 24s 241ms/step - loss: 0.5332 - accuracy: 0.7783 - val_loss: 0.4767 - val_accuracy: 0.8266\n",
      "Epoch 150/150\n",
      "101/101 [==============================] - 24s 241ms/step - loss: 0.5286 - accuracy: 0.7819 - val_loss: 0.4820 - val_accuracy: 0.8180\n"
     ]
    },
    {
     "data": {
      "text/plain": [
       "<keras.callbacks.History at 0x1e6f68735b0>"
      ]
     },
     "execution_count": 6,
     "metadata": {},
     "output_type": "execute_result"
    }
   ],
   "source": [
    "model = build_CNN_w_pooling(X)\n",
    "model.fit(X_train, y_train , epochs=150, batch_size=4096, validation_split=0.1)"
   ]
  },
  {
   "cell_type": "code",
   "execution_count": 8,
   "id": "cc3fe201",
   "metadata": {},
   "outputs": [
    {
     "name": "stdout",
     "output_type": "stream",
     "text": [
      "INFO:tensorflow:Assets written to: C:\\machine learning workspace\\final project\\MachineLearningTeamProject\\Model\\savedModel81\\assets\n"
     ]
    }
   ],
   "source": [
    "model_save_path = r\"C:\\machine learning workspace\\final project\\MachineLearningTeamProject\\Model\\savedModel81\"\n",
    "model.save(model_save_path)"
   ]
  },
  {
   "cell_type": "code",
   "execution_count": 7,
   "id": "437f810a",
   "metadata": {},
   "outputs": [
    {
     "name": "stdout",
     "output_type": "stream",
     "text": [
      "3580/3580 [==============================] - 8s 2ms/step - loss: 0.4807 - accuracy: 0.8203\n"
     ]
    }
   ],
   "source": [
    "loss, accuracy = model.evaluate(X_test, y_test)"
   ]
  },
  {
   "cell_type": "code",
   "execution_count": 10,
   "id": "f67a3910",
   "metadata": {},
   "outputs": [
    {
     "name": "stdout",
     "output_type": "stream",
     "text": [
      "Model: \"sequential\"\n",
      "_________________________________________________________________\n",
      " Layer (type)                Output Shape              Param #   \n",
      "=================================================================\n",
      " conv2d (Conv2D)             (None, 20, 20, 64)        3520      \n",
      "                                                                 \n",
      " conv2d_1 (Conv2D)           (None, 20, 20, 64)        36928     \n",
      "                                                                 \n",
      " conv2d_2 (Conv2D)           (None, 20, 20, 64)        36928     \n",
      "                                                                 \n",
      " dropout (Dropout)           (None, 20, 20, 64)        0         \n",
      "                                                                 \n",
      " conv2d_3 (Conv2D)           (None, 20, 20, 128)       73856     \n",
      "                                                                 \n",
      " dropout_1 (Dropout)         (None, 20, 20, 128)       0         \n",
      "                                                                 \n",
      " conv2d_4 (Conv2D)           (None, 20, 20, 128)       147584    \n",
      "                                                                 \n",
      " max_pooling2d (MaxPooling2D  (None, 10, 10, 128)      0         \n",
      " )                                                               \n",
      "                                                                 \n",
      " dropout_2 (Dropout)         (None, 10, 10, 128)       0         \n",
      "                                                                 \n",
      " conv2d_5 (Conv2D)           (None, 10, 10, 256)       295168    \n",
      "                                                                 \n",
      " max_pooling2d_1 (MaxPooling  (None, 5, 5, 256)        0         \n",
      " 2D)                                                             \n",
      "                                                                 \n",
      " dropout_3 (Dropout)         (None, 5, 5, 256)         0         \n",
      "                                                                 \n",
      " flatten (Flatten)           (None, 6400)              0         \n",
      "                                                                 \n",
      " dense (Dense)               (None, 128)               819328    \n",
      "                                                                 \n",
      " dropout_4 (Dropout)         (None, 128)               0         \n",
      "                                                                 \n",
      " dense_1 (Dense)             (None, 128)               16512     \n",
      "                                                                 \n",
      " dropout_5 (Dropout)         (None, 128)               0         \n",
      "                                                                 \n",
      " dense_2 (Dense)             (None, 32)                4128      \n",
      "                                                                 \n",
      " dropout_6 (Dropout)         (None, 32)                0         \n",
      "                                                                 \n",
      " dense_3 (Dense)             (None, 5)                 165       \n",
      "                                                                 \n",
      "=================================================================\n",
      "Total params: 1,434,117\n",
      "Trainable params: 1,434,117\n",
      "Non-trainable params: 0\n",
      "_________________________________________________________________\n"
     ]
    }
   ],
   "source": [
    "model.summary()"
   ]
  },
  {
   "cell_type": "code",
   "execution_count": 12,
   "id": "2f722dfe",
   "metadata": {},
   "outputs": [],
   "source": [
    "loadedModel = keras.models.load_model(model_save_path)"
   ]
  },
  {
   "cell_type": "code",
   "execution_count": 13,
   "id": "74ffd18b-7fd1-49bb-90b8-e8a0efec192c",
   "metadata": {},
   "outputs": [
    {
     "name": "stdout",
     "output_type": "stream",
     "text": [
      "Model: \"sequential\"\n",
      "_________________________________________________________________\n",
      " Layer (type)                Output Shape              Param #   \n",
      "=================================================================\n",
      " conv2d (Conv2D)             (None, 20, 20, 64)        3520      \n",
      "                                                                 \n",
      " conv2d_1 (Conv2D)           (None, 20, 20, 64)        36928     \n",
      "                                                                 \n",
      " conv2d_2 (Conv2D)           (None, 20, 20, 64)        36928     \n",
      "                                                                 \n",
      " dropout (Dropout)           (None, 20, 20, 64)        0         \n",
      "                                                                 \n",
      " conv2d_3 (Conv2D)           (None, 20, 20, 128)       73856     \n",
      "                                                                 \n",
      " dropout_1 (Dropout)         (None, 20, 20, 128)       0         \n",
      "                                                                 \n",
      " conv2d_4 (Conv2D)           (None, 20, 20, 128)       147584    \n",
      "                                                                 \n",
      " max_pooling2d (MaxPooling2D  (None, 10, 10, 128)      0         \n",
      " )                                                               \n",
      "                                                                 \n",
      " dropout_2 (Dropout)         (None, 10, 10, 128)       0         \n",
      "                                                                 \n",
      " conv2d_5 (Conv2D)           (None, 10, 10, 256)       295168    \n",
      "                                                                 \n",
      " max_pooling2d_1 (MaxPooling  (None, 5, 5, 256)        0         \n",
      " 2D)                                                             \n",
      "                                                                 \n",
      " dropout_3 (Dropout)         (None, 5, 5, 256)         0         \n",
      "                                                                 \n",
      " flatten (Flatten)           (None, 6400)              0         \n",
      "                                                                 \n",
      " dense (Dense)               (None, 128)               819328    \n",
      "                                                                 \n",
      " dropout_4 (Dropout)         (None, 128)               0         \n",
      "                                                                 \n",
      " dense_1 (Dense)             (None, 128)               16512     \n",
      "                                                                 \n",
      " dropout_5 (Dropout)         (None, 128)               0         \n",
      "                                                                 \n",
      " dense_2 (Dense)             (None, 32)                4128      \n",
      "                                                                 \n",
      " dropout_6 (Dropout)         (None, 32)                0         \n",
      "                                                                 \n",
      " dense_3 (Dense)             (None, 5)                 165       \n",
      "                                                                 \n",
      "=================================================================\n",
      "Total params: 1,434,117\n",
      "Trainable params: 1,434,117\n",
      "Non-trainable params: 0\n",
      "_________________________________________________________________\n"
     ]
    }
   ],
   "source": [
    "loadedModel.summary()"
   ]
  },
  {
   "cell_type": "code",
   "execution_count": 113,
   "id": "c99f5cdb-399f-4310-b88e-b60e7a8148e7",
   "metadata": {},
   "outputs": [
    {
     "data": {
      "text/plain": [
       "array([[0.12516342, 0.10846931, 0.11553416, 0.10564344, 0.5451897 ],\n",
       "       [0.09151299, 0.07960231, 0.07611708, 0.07968806, 0.67307955],\n",
       "       [0.08452865, 0.06726538, 0.05977225, 0.06250986, 0.7259239 ],\n",
       "       ...,\n",
       "       [0.10909431, 0.10055214, 0.1113238 , 0.11079023, 0.5682395 ],\n",
       "       [0.09062684, 0.08424608, 0.08398275, 0.09016786, 0.6509765 ],\n",
       "       [0.10043259, 0.09283187, 0.09430876, 0.10005014, 0.6123767 ]],\n",
       "      dtype=float32)"
      ]
     },
     "execution_count": 113,
     "metadata": {},
     "output_type": "execute_result"
    }
   ],
   "source": [
    "model.predict(X)"
   ]
  },
  {
   "cell_type": "code",
   "execution_count": 114,
   "id": "32a5ba56-18eb-40d4-acfe-e47223184d03",
   "metadata": {},
   "outputs": [],
   "source": [
    "import matplotlib.pyplot as plt"
   ]
  },
  {
   "cell_type": "code",
   "execution_count": 120,
   "id": "ff59cf9f-8044-48b9-b4b1-a55c579f6446",
   "metadata": {},
   "outputs": [
    {
     "data": {
      "text/plain": [
       "(200, 200, 3)"
      ]
     },
     "execution_count": 120,
     "metadata": {},
     "output_type": "execute_result"
    }
   ],
   "source": [
    "X[0,:,:,:3].shape"
   ]
  },
  {
   "cell_type": "code",
   "execution_count": 142,
   "id": "318d3790-9e15-4120-bc68-cf5edcc9e006",
   "metadata": {},
   "outputs": [
    {
     "data": {
      "text/plain": [
       "array([[[ 96.,  89.,  63.],\n",
       "        [121., 114.,  88.],\n",
       "        [139., 132., 104.],\n",
       "        ...,\n",
       "        [185.,  66.,  36.],\n",
       "        [178.,  65.,  36.],\n",
       "        [171.,  63.,  31.]],\n",
       "\n",
       "       [[ 99.,  92.,  66.],\n",
       "        [115., 107.,  81.],\n",
       "        [132., 123.,  96.],\n",
       "        ...,\n",
       "        [186.,  66.,  32.],\n",
       "        [179.,  66.,  32.],\n",
       "        [173.,  62.,  28.]],\n",
       "\n",
       "       [[112., 102.,  77.],\n",
       "        [116., 104.,  78.],\n",
       "        [127., 116.,  88.],\n",
       "        ...,\n",
       "        [186.,  64.,  27.],\n",
       "        [182.,  65.,  28.],\n",
       "        [177.,  64.,  26.]],\n",
       "\n",
       "       ...,\n",
       "\n",
       "       [[ 40.,  47.,  39.],\n",
       "        [ 40.,  47.,  39.],\n",
       "        [ 38.,  45.,  37.],\n",
       "        ...,\n",
       "        [ 58.,  61.,  54.],\n",
       "        [ 59.,  62.,  55.],\n",
       "        [ 59.,  61.,  56.]],\n",
       "\n",
       "       [[ 42.,  49.,  41.],\n",
       "        [ 43.,  50.,  42.],\n",
       "        [ 40.,  47.,  39.],\n",
       "        ...,\n",
       "        [ 51.,  52.,  46.],\n",
       "        [ 53.,  56.,  49.],\n",
       "        [ 54.,  56.,  51.]],\n",
       "\n",
       "       [[ 42.,  49.,  41.],\n",
       "        [ 42.,  49.,  41.],\n",
       "        [ 40.,  47.,  39.],\n",
       "        ...,\n",
       "        [ 51.,  52.,  46.],\n",
       "        [ 54.,  55.,  49.],\n",
       "        [ 55.,  57.,  52.]]])"
      ]
     },
     "execution_count": 142,
     "metadata": {},
     "output_type": "execute_result"
    }
   ],
   "source": [
    "X[0,:,:,:3]"
   ]
  },
  {
   "cell_type": "code",
   "execution_count": 10,
   "id": "56e963e1-ced8-4655-9da4-eaf07ca614c2",
   "metadata": {},
   "outputs": [
    {
     "ename": "NameError",
     "evalue": "name 'plt' is not defined",
     "output_type": "error",
     "traceback": [
      "\u001B[0;31m---------------------------------------------------------------------------\u001B[0m",
      "\u001B[0;31mNameError\u001B[0m                                 Traceback (most recent call last)",
      "Input \u001B[0;32mIn [10]\u001B[0m, in \u001B[0;36m<cell line: 1>\u001B[0;34m()\u001B[0m\n\u001B[0;32m----> 1\u001B[0m \u001B[43mplt\u001B[49m\u001B[38;5;241m.\u001B[39mimshow(X[\u001B[38;5;241m0\u001B[39m,:,:,\u001B[38;5;241m3\u001B[39m:])\n",
      "\u001B[0;31mNameError\u001B[0m: name 'plt' is not defined"
     ]
    }
   ],
   "source": [
    "plt.imshow(X[0,:,:,3:])"
   ]
  },
  {
   "cell_type": "code",
   "execution_count": null,
   "id": "61410fb8-475c-4f0f-bd15-05a466bc567f",
   "metadata": {},
   "outputs": [],
   "source": []
  }
 ],
 "metadata": {
  "kernelspec": {
   "display_name": "Python 3 (ipykernel)",
   "language": "python",
   "name": "python3"
  },
  "language_info": {
   "codemirror_mode": {
    "name": "ipython",
    "version": 3
   },
   "file_extension": ".py",
   "mimetype": "text/x-python",
   "name": "python",
   "nbconvert_exporter": "python",
   "pygments_lexer": "ipython3",
   "version": "3.9.7"
  }
 },
 "nbformat": 4,
 "nbformat_minor": 5
}