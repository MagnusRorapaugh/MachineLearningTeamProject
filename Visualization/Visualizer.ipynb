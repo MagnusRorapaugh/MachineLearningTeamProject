{
 "cells": [
  {
   "cell_type": "code",
   "execution_count": 2,
   "outputs": [],
   "source": [
    "from PIL import Image\n",
    "import numpy as np"
   ],
   "metadata": {
    "collapsed": false,
    "pycharm": {
     "name": "#%%\n"
    }
   }
  },
  {
   "cell_type": "code",
   "execution_count": 87,
   "outputs": [],
   "source": [
    "class Visualizer():\n",
    "    def __init__(self, data):\n",
    "        self.data = data\n",
    "        self.piece_shape = data.shape[2]\n",
    "        self.num_pieces = (data.shape[0]+1)/2\n",
    "        self.canvas = Image.new('RGB', (int(self.piece_shape*self.data.shape[0]), int(self.piece_shape*self.data.shape[1])))\n",
    "        self.to_render = None\n",
    "\n",
    "    def extract_pieces(self):\n",
    "        dim1 = self.data.shape[0]\n",
    "        dim2 = self.data.shape[1]\n",
    "        data_dict = {}\n",
    "        for i in range(dim1):\n",
    "            for j in range(dim2):\n",
    "                if np.any(self.data[i][j]!=0):\n",
    "                    data_dict[(i,j)] = self.data[i][j]\n",
    "        self.to_render = data_dict\n",
    "\n",
    "    def render(self):\n",
    "        for pos in self.to_render:\n",
    "            piece_to_render = self.to_render[pos]\n",
    "            piece_to_render = Image.fromarray((piece_to_render*255).astype(np.uint8))\n",
    "            print(pos)\n",
    "            self.canvas.paste(piece_to_render, (int(pos[1]*self.piece_shape), int(pos[0]*self.piece_shape)))\n",
    "            self.canvas.show()"
   ],
   "metadata": {
    "collapsed": false,
    "pycharm": {
     "name": "#%%\n"
    }
   }
  }
 ],
 "metadata": {
  "kernelspec": {
   "display_name": "Python 3",
   "language": "python",
   "name": "python3"
  },
  "language_info": {
   "codemirror_mode": {
    "name": "ipython",
    "version": 2
   },
   "file_extension": ".py",
   "mimetype": "text/x-python",
   "name": "python",
   "nbconvert_exporter": "python",
   "pygments_lexer": "ipython2",
   "version": "2.7.6"
  }
 },
 "nbformat": 4,
 "nbformat_minor": 0
}